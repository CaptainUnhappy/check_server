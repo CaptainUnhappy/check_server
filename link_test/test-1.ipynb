{
 "cells": [
  {
   "cell_type": "code",
   "execution_count": 26,
   "metadata": {},
   "outputs": [],
   "source": [
    "import paramiko\n",
    "\n",
    "account_list = {\n",
    "    '10.2.14.89':'root/n9pmlXmu26GBSXovAO5Y',\n",
    "    '10.2.14.90':'root/R8KpnPThIjQYNSdZueMf',\n",
    "    '10.2.14.91':'root/5mv1n18vh3LR5ORwie7q'\n",
    "}\n"
   ]
  },
  {
   "cell_type": "code",
   "execution_count": 27,
   "metadata": {},
   "outputs": [
    {
     "name": "stdout",
     "output_type": "stream",
     "text": [
      "10.2.14.89 22 root n9pmlXmu26GBSXovAO5Y\n",
      "b'anaconda-ks.cfg\n",
      "ROOT.war\n",
      "'\n",
      "\n",
      "\n",
      "10.2.14.90 22 root R8KpnPThIjQYNSdZueMf\n",
      "b'1\n",
      "anaconda-ks.cfg\n",
      "nginx\n",
      "'\n",
      "\n",
      "\n",
      "10.2.14.91 22 root 5mv1n18vh3LR5ORwie7q\n",
      "b'anaconda-ks.cfg\n",
      "zabbix-3.4.9\n",
      "zabbix-3.4.9.tar.gz\n",
      "'\n",
      "\n",
      "\n"
     ]
    },
    {
     "name": "stderr",
     "output_type": "stream",
     "text": [
      "Socket exception: 远程主机强迫关闭了一个现有的连接。 (10054)\n",
      "Socket exception: 远程主机强迫关闭了一个现有的连接。 (10054)\n",
      "Socket exception: 远程主机强迫关闭了一个现有的连接。 (10054)\n",
      "Socket exception: 远程主机强迫关闭了一个现有的连接。 (10054)\n",
      "Socket exception: 远程主机强迫关闭了一个现有的连接。 (10054)\n",
      "Socket exception: 远程主机强迫关闭了一个现有的连接。 (10054)\n",
      "Socket exception: 远程主机强迫关闭了一个现有的连接。 (10054)\n",
      "Socket exception: 远程主机强迫关闭了一个现有的连接。 (10054)\n",
      "Socket exception: 远程主机强迫关闭了一个现有的连接。 (10054)\n"
     ]
    }
   ],
   "source": [
    "for index in account_list:\n",
    "    account = account_list[index].split('/')\n",
    "    # ip、用户名、密码\n",
    "    ip = index\n",
    "    port = 22\n",
    "    # print(account)\n",
    "    user = account[0]\n",
    "    password = account[1]\n",
    "\n",
    "    print(ip, port, user, password)\n",
    "\n",
    "    # 创建SSHClient 实例对象\n",
    "    ssh = paramiko.SSHClient()\n",
    "    # 调用方法，表示没有存储远程机器的公钥，允许访问\n",
    "    ssh.set_missing_host_key_policy(paramiko.AutoAddPolicy())\n",
    "    # 连接远程机器，地址，端口，用户名密码\n",
    "    ssh.connect(ip, port, user, password, timeout=10)\n",
    "\n",
    "    # 输入linux命令\n",
    "    command = \"cd /www/wwwroot ;ls\"\n",
    "    stdin, stdout, stderr = ssh.exec_command(command)\n",
    "    # 输出命令执行结果\n",
    "    result = stdout.read()\n",
    "    ## bytes 转 str\n",
    "    result = str(result)\n",
    "    result = result.split('\\\\n')\n",
    "    for i in result: \n",
    "        print(i)\n",
    "    print('\\n')"
   ]
  },
  {
   "cell_type": "code",
   "execution_count": 88,
   "metadata": {},
   "outputs": [
    {
     "name": "stdout",
     "output_type": "stream",
     "text": [
      "第一个表格的第二行，第1列的单元格内容: 2024/10/18\n",
      "第一个表格的第二行，第2列的单元格内容: Q3\n",
      "第一个表格的第二行，第5列的单元格内容: 柳毓琳\n",
      "第一个表格的第二行，第6列的单元格内容: 15317265303\n"
     ]
    }
   ],
   "source": [
    "import win32com.client as win32\n",
    "\n",
    "word_app = win32.Dispatch(\"Word.Application\")\n",
    "word_app.Visible = True\n",
    "\n",
    "# 打开现有的 Word 文档\n",
    "doc_path = r\"C:\\Users\\EDY\\Desktop\\巡检记录\\link_test\\南京城市学院运维巡检记录-20240710 copy.docx\"\n",
    "doc = word_app.Documents.Open(doc_path)\n",
    "\n",
    "\n",
    "# 只获取第一个表格的内容\n",
    "if doc.Tables.Count > 0:  # 确保文档至少有一个表格\n",
    "    first_table = doc.Tables[0]  # 获取第一个表格\n",
    "    row_index = 2  # 第二行\n",
    "    \n",
    "    # 提取第二行的第 1、2、5 和 6 列的单元格内容\n",
    "    columns_to_extract = [1, 2, 5, 6]\n",
    "    for col_index in columns_to_extract:\n",
    "        try:\n",
    "            cell = first_table.Cell(Row=row_index, Column=col_index)\n",
    "            text = cell.Range.Text.strip().replace(\"\\r\\x07\", \"\")  # 清理掉单元格结束符\n",
    "            if text:\n",
    "                print(f\"第一个表格的第二行，第 {col_index} 列的单元格内容: {text}\")\n",
    "        except Exception as e:\n",
    "            print(f\"无法访问第一个表格的第二行，第 {col_index} 列的单元格: {e}\")\n",
    "\n",
    "\n",
    "\n"
   ]
  },
  {
   "cell_type": "code",
   "execution_count": 43,
   "metadata": {},
   "outputs": [
    {
     "name": "stdout",
     "output_type": "stream",
     "text": [
      "南京城市学院2020年第撒季度运维巡检\u000b统计报告 替换为: 南京城市学院2024年第4季度运维巡检\u000b统计报告\n"
     ]
    }
   ],
   "source": [
    "import os\n",
    "import win32com.client as win32\n",
    "from datetime import datetime\n",
    "import re\n",
    "\n",
    "def replace_quarter_text_in_doc(doc_path):\n",
    "    # 获取当前时间和季度\n",
    "    current_year = datetime.now().year\n",
    "    current_quarter = (datetime.now().month - 1) // 3 + 1\n",
    "\n",
    "    # 打开 Word 应用\n",
    "    word_app = win32.Dispatch(\"Word.Application\")\n",
    "    word_app.Visible = False  # 设置为True可以看到Word界面\n",
    "\n",
    "    try:\n",
    "        # 打开现有的 Word 文档\n",
    "        doc = word_app.Documents.Open(doc_path)\n",
    "        # 遍历所有 Shape 对象\n",
    "        for shape in doc.Shapes:\n",
    "            # 先检查该 Shape 是否有 TextFrame 属性并且 TextFrame 包含文本\n",
    "            if hasattr(shape, \"TextFrame\") and shape.TextFrame.HasText:\n",
    "                text = shape.TextFrame.TextRange.Text.strip()\n",
    "                # 使用正则表达式替换符合模式的文本\n",
    "                new_text = re.sub(r\"\\d{4}年第.*季度运维巡检\", f\"{current_year}年第{current_quarter}季度运维巡检\", text)\n",
    "                if new_text != text:\n",
    "                    shape.TextFrame.TextRange.Text = new_text\n",
    "                    print(f\"{text} 替换为: {new_text}\")\n",
    "\n",
    "        # # 遍历文档中的所有表格，逐行遍历所有单元格\n",
    "        # for table in doc.Tables:\n",
    "        #     for row in range(1, table.Rows.Count + 1):\n",
    "        #         for col in range(1, table.Columns.Count + 1):\n",
    "        #             try:\n",
    "        #                 cell_text = table.Cell(row, col).Range.Text.strip()\n",
    "        #                 if cell_text in [\"巡检时间\", \"季度\", \"巡检人员\", \"电话\"]:\n",
    "        #                     table.Cell(row, col).Range.Text = \"已替换\"\n",
    "        #             except:\n",
    "        #                 # 忽略因合并单元格导致的访问错误\n",
    "        #                 continue\n",
    "\n",
    "        # 保存并关闭文档\n",
    "        doc.Save()\n",
    "    except Exception as e:\n",
    "        print(f\"打开或处理文档时出错: {e}\")\n",
    "    finally:\n",
    "        # 确保关闭文档和 Word 应用\n",
    "        if 'doc' in locals():  # 确保 doc 已成功打开\n",
    "            doc.Close()\n",
    "        word_app.Quit()\n",
    "\n",
    "# 调用函数，传入文档路径\n",
    "replace_quarter_text_in_doc(r\"C:\\Users\\EDY\\Desktop\\巡检记录\\link_test\\南京城市学院运维巡检记录-20240710 copy.docx\")\n"
   ]
  }
 ],
 "metadata": {
  "kernelspec": {
   "display_name": "Python 3",
   "language": "python",
   "name": "python3"
  },
  "language_info": {
   "codemirror_mode": {
    "name": "ipython",
    "version": 3
   },
   "file_extension": ".py",
   "mimetype": "text/x-python",
   "name": "python",
   "nbconvert_exporter": "python",
   "pygments_lexer": "ipython3",
   "version": "3.12.0"
  }
 },
 "nbformat": 4,
 "nbformat_minor": 2
}
